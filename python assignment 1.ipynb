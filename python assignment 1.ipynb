{
 "cells": [
  {
   "cell_type": "code",
   "execution_count": 34,
   "id": "c323ccd4-795d-4f2b-8d95-6285456d5146",
   "metadata": {},
   "outputs": [],
   "source": [
    "a='kk'\n",
    "b=[1,2.3,'kk']\n",
    "c=2.34\n",
    "d=(1,2.3,'kk')"
   ]
  },
  {
   "cell_type": "code",
   "execution_count": 2,
   "id": "15e299a1-7214-4d8d-9015-8e803c9d5d77",
   "metadata": {},
   "outputs": [
    {
     "data": {
      "text/plain": [
       "str"
      ]
     },
     "execution_count": 2,
     "metadata": {},
     "output_type": "execute_result"
    }
   ],
   "source": [
    "type(a)\n"
   ]
  },
  {
   "cell_type": "code",
   "execution_count": 3,
   "id": "933a5992-188a-4c94-8993-5f4fb4b5d15b",
   "metadata": {},
   "outputs": [
    {
     "data": {
      "text/plain": [
       "list"
      ]
     },
     "execution_count": 3,
     "metadata": {},
     "output_type": "execute_result"
    }
   ],
   "source": [
    "type(b)"
   ]
  },
  {
   "cell_type": "code",
   "execution_count": 4,
   "id": "e2be8bcd-feb3-43c3-94fd-040a9a61567d",
   "metadata": {},
   "outputs": [
    {
     "data": {
      "text/plain": [
       "float"
      ]
     },
     "execution_count": 4,
     "metadata": {},
     "output_type": "execute_result"
    }
   ],
   "source": [
    "type(c)"
   ]
  },
  {
   "cell_type": "code",
   "execution_count": 8,
   "id": "ae7e9606-d22d-41b4-9317-e4b366f5fb94",
   "metadata": {},
   "outputs": [
    {
     "data": {
      "text/plain": [
       "str"
      ]
     },
     "execution_count": 8,
     "metadata": {},
     "output_type": "execute_result"
    }
   ],
   "source": [
    "var1=' '\n",
    "type(var1)"
   ]
  },
  {
   "cell_type": "code",
   "execution_count": 12,
   "id": "2e523d77-baa9-498b-90d2-86d6207caba0",
   "metadata": {},
   "outputs": [
    {
     "data": {
      "text/plain": [
       "str"
      ]
     },
     "execution_count": 12,
     "metadata": {},
     "output_type": "execute_result"
    }
   ],
   "source": [
    "var2 = '[DS, ML , Python]'\n",
    "type(var2)"
   ]
  },
  {
   "cell_type": "code",
   "execution_count": 14,
   "id": "181cce24-e801-4d5b-a234-ff2ce611eb99",
   "metadata": {},
   "outputs": [
    {
     "data": {
      "text/plain": [
       "list"
      ]
     },
     "execution_count": 14,
     "metadata": {},
     "output_type": "execute_result"
    }
   ],
   "source": [
    "var3 = [ 'DS' , 'ML' , 'Python' ]\n",
    "type(var3)"
   ]
  },
  {
   "cell_type": "code",
   "execution_count": 15,
   "id": "5dd685b8-283c-4da8-b57d-4422362f1c9d",
   "metadata": {},
   "outputs": [
    {
     "data": {
      "text/plain": [
       "int"
      ]
     },
     "execution_count": 15,
     "metadata": {},
     "output_type": "execute_result"
    }
   ],
   "source": [
    "var4=1\n",
    "type(var4)\n"
   ]
  },
  {
   "cell_type": "code",
   "execution_count": 23,
   "id": "2d49ff28-0ae8-428c-83a6-195dadce956f",
   "metadata": {},
   "outputs": [
    {
     "name": "stdout",
     "output_type": "stream",
     "text": [
      "1.5\n",
      "2\n",
      "3\n",
      "8\n"
     ]
    }
   ],
   "source": [
    "a=2\n",
    "b=3\n",
    "c=b/a\n",
    "print(c)\n",
    "c=a%b\n",
    "print(c)\n",
    "c=b|a\n",
    "print(c)\n",
    "c=a**b\n",
    "print(c)"
   ]
  },
  {
   "cell_type": "code",
   "execution_count": 26,
   "id": "931f2aa9-b952-4883-8e37-f9f65c0a3c04",
   "metadata": {},
   "outputs": [
    {
     "name": "stdout",
     "output_type": "stream",
     "text": [
      "1\n",
      "<class 'int'>\n",
      "2.3\n",
      "<class 'float'>\n",
      "kk\n",
      "<class 'str'>\n",
      "(2+7j)\n",
      "<class 'complex'>\n"
     ]
    }
   ],
   "source": [
    "a=[1,2.3,'kk',2+7j]\n",
    "for i in a:\n",
    "    print(i)\n",
    "    print(type(i))"
   ]
  },
  {
   "cell_type": "code",
   "execution_count": 28,
   "id": "9b07d44f-229c-46fa-b94c-e71aadcf8db5",
   "metadata": {},
   "outputs": [
    {
     "name": "stdin",
     "output_type": "stream",
     "text": [
      "emter any number 10\n",
      "emter any number 2\n"
     ]
    },
    {
     "name": "stdout",
     "output_type": "stream",
     "text": [
      "10 is divisible by 2\n",
      "10 is divisible by 2 by 5.0 times\n"
     ]
    }
   ],
   "source": [
    "a=int(input('emter any number'))\n",
    "b=int(input('emter any number'))\n",
    "while a%b==0:\n",
    "    print(a, 'is divisible by',b)\n",
    "    c=a/b\n",
    "    print(a,'is divisible by',b,'by',c,'times')\n",
    "    break\n",
    "else:\n",
    "    print(a,'is not divisible by',b)\n",
    "    \n",
    "    "
   ]
  },
  {
   "cell_type": "code",
   "execution_count": 30,
   "id": "5c653d8c-a0ca-463c-875d-13c69c478ed5",
   "metadata": {},
   "outputs": [
    {
     "name": "stdout",
     "output_type": "stream",
     "text": [
      "11 is not divisible by 3\n",
      "22 is not divisible by 3\n",
      "332 is not divisible by 3\n",
      "43 is not divisible by 3\n",
      "5 is not divisible by 3\n",
      "3 is divisible by 3\n",
      "6 is divisible by 3\n",
      "63 is divisible by 3\n",
      "68 is not divisible by 3\n",
      "42 is divisible by 3\n",
      "44 is not divisible by 3\n",
      "37 is not divisible by 3\n",
      "56 is not divisible by 3\n",
      "30 is divisible by 3\n",
      "2 is not divisible by 3\n",
      "62 is not divisible by 3\n",
      "39 is divisible by 3\n",
      "45 is divisible by 3\n",
      "16 is not divisible by 3\n",
      "7 is not divisible by 3\n",
      "65 is not divisible by 3\n",
      "56 is not divisible by 3\n",
      "77 is not divisible by 3\n",
      "759 is divisible by 3\n",
      "6 is divisible by 3\n"
     ]
    }
   ],
   "source": [
    "k=[11,22,332,43,5,3,6,63,68,42,44,37,56,30,2,62,39,45,16,7,65,56,77,759,6]\n",
    "for i in k:\n",
    "    if i%3==0:\n",
    "        print(i,'is divisible by 3')\n",
    "    else:\n",
    "        print(i,'is not divisible by 3')\n",
    "        "
   ]
  },
  {
   "cell_type": "code",
   "execution_count": 35,
   "id": "8fe397bc-551e-4ece-98e0-bb5a85d08bcf",
   "metadata": {},
   "outputs": [
    {
     "name": "stdout",
     "output_type": "stream",
     "text": [
      "[11, 22, 2, 43, 5, 3, 6, 63, 68, 42, 44, 37, 56, 30, 2, 62, 39, 45, 16, 7, 65, 56, 77, 759, 6]\n"
     ]
    }
   ],
   "source": [
    "#mutable= list is  mutable as  data can be replaced\n",
    "k[2]=2\n",
    "print(k)"
   ]
  },
  {
   "cell_type": "code",
   "execution_count": 40,
   "id": "bde1e782-676c-42e3-bf9a-84f5c128bb5f",
   "metadata": {},
   "outputs": [
    {
     "ename": "TypeError",
     "evalue": "'str' object does not support item assignment",
     "output_type": "error",
     "traceback": [
      "\u001b[0;31m---------------------------------------------------------------------------\u001b[0m",
      "\u001b[0;31mTypeError\u001b[0m                                 Traceback (most recent call last)",
      "Cell \u001b[0;32mIn[40], line 3\u001b[0m\n\u001b[1;32m      1\u001b[0m \u001b[38;5;66;03m#immutable = string is immutable as  data cannot be replaced\u001b[39;00m\n\u001b[1;32m      2\u001b[0m \u001b[38;5;28mstr\u001b[39m\u001b[38;5;241m=\u001b[39m\u001b[38;5;124m'\u001b[39m\u001b[38;5;124mkrishna\u001b[39m\u001b[38;5;124m'\u001b[39m\n\u001b[0;32m----> 3\u001b[0m \u001b[38;5;28;43mstr\u001b[39;49m\u001b[43m[\u001b[49m\u001b[38;5;241;43m1\u001b[39;49m\u001b[43m]\u001b[49m\u001b[38;5;241m=\u001b[39m\u001b[38;5;124m'\u001b[39m\u001b[38;5;124mt\u001b[39m\u001b[38;5;124m'\u001b[39m\n\u001b[1;32m      4\u001b[0m \u001b[38;5;28mprint\u001b[39m(\u001b[38;5;28mstr\u001b[39m)\n",
      "\u001b[0;31mTypeError\u001b[0m: 'str' object does not support item assignment"
     ]
    }
   ],
   "source": [
    "#immutable = string is immutable as  data cannot be replaced\n",
    "str='krishna'\n",
    "str[1]='t'\n",
    "print(str)\n"
   ]
  },
  {
   "cell_type": "code",
   "execution_count": null,
   "id": "64141f79-c0e6-4891-835b-ff2d8ad87196",
   "metadata": {},
   "outputs": [],
   "source": []
  }
 ],
 "metadata": {
  "kernelspec": {
   "display_name": "Python 3 (ipykernel)",
   "language": "python",
   "name": "python3"
  },
  "language_info": {
   "codemirror_mode": {
    "name": "ipython",
    "version": 3
   },
   "file_extension": ".py",
   "mimetype": "text/x-python",
   "name": "python",
   "nbconvert_exporter": "python",
   "pygments_lexer": "ipython3",
   "version": "3.10.8"
  }
 },
 "nbformat": 4,
 "nbformat_minor": 5
}
